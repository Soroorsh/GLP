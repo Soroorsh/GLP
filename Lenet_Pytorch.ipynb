{
  "cells": [
    {
      "cell_type": "markdown",
      "metadata": {
        "id": "view-in-github",
        "colab_type": "text"
      },
      "source": [
        "<a href=\"https://colab.research.google.com/github/rezvanizahra/GLP/blob/main/Lenet_Pytorch.ipynb\" target=\"_parent\"><img src=\"https://colab.research.google.com/assets/colab-badge.svg\" alt=\"Open In Colab\"/></a>"
      ]
    },
    {
      "cell_type": "markdown",
      "metadata": {
        "id": "eiCxMrG_ZF84"
      },
      "source": [
        "# Implementation of LeNet in Pytorch"
      ]
    },
    {
      "cell_type": "markdown",
      "metadata": {
        "id": "QaZPObTJZF89"
      },
      "source": [
        "In this article, I briefly describe the architecture and show how to implement LeNet-5 in PyTorch. The article assumes a general understanding of the basics of Convolutional Neural Networks, including concepts such as convolutional layers, pooling layers, fully-connected layers, etc."
      ]
    },
    {
      "cell_type": "markdown",
      "metadata": {
        "id": "KBTGU_lfZF8-"
      },
      "source": [
        "LeNet-5 is a 7 layer Convolutional Neural Network, trained on grayscale images of size 32 x 32 pixels. Here, we can see the pictorial representation of LENET -5 architecture"
      ]
    },
    {
      "cell_type": "markdown",
      "metadata": {
        "id": "CP2sy_VwZF9A"
      },
      "source": [
        "[link text](https://)The next step is to check how the number of parameters are being calculated. Here, this formula is being used to calculate the the shape of output at each layers."
      ]
    },
    {
      "cell_type": "markdown",
      "metadata": {
        "id": "t2sEi_EFZF9C"
      },
      "source": [
        "Where, nin is the input height/width, f is the filter/kernel size, p is the padding, and s is the stride."
      ]
    },
    {
      "cell_type": "markdown",
      "metadata": {
        "id": "bEFVZAG2ZF9D"
      },
      "source": [
        "In the architecture and the formula above we can walkaround wach and every layer of LeNet Architecture.\n",
        "\n",
        "Layer 1 (C1): The input of an image size is 32x32 and the convolution layer is applied with 6 kernels of 5x5 size. So, according to above formula the output of C1 layer would be like of size 28×28×6.Here, we have used padding 0 and 6 kernelof 5x5 with stride of 1.\n",
        "\n",
        "                             Output = ((32 + 0–5) / 1) + 1 = 28\n",
        "                             Learning Parameters = ([ 1 x (5 x 5) x 1] + 1) x 6 filters = 156\n",
        "\n",
        "Layer 2 (S2): Next the pooling layer of size 2×2 and the stride of 2. The output of this layer would be 14x14x6\n",
        "\n",
        "                             Output shape = ((28 + 0–2) / 2) + 1 = 14\n",
        "                             Learning Parameters = 0 ( Here we are applying pooling only from the previous layer and pooling                                                          does not have any weights and biases so it would not contain any                                                                 Learning Parameters)\n",
        "\n",
        "Layer 3 (C3): The next step is with convolutional layer of same shape of 5x5 but with 16 kernels. So the shape at this stage would be 10×10×16.\n",
        "\n",
        "                             Output shape = ((14 + 0–5) / 1) + 1 = 10\n",
        "                             Learning Parameters = ([ 6 x (5 x 5) x 1] + 1) x 16 filters = 2416\n",
        "\n",
        "Layer 4 (S4): The next step is with pooling of same size as previous but the shape of the output at this stage would be 5x5x16.\n",
        "\n",
        "                             Output shape = ((10 + 0–2) / 2) + 1 = 5\n",
        "                             Learning Parameters = 0 ( Here we are applying pooling only from the previous layer and pooling                                                          does not have any weights and biases so it would not contain any                                                                 Learning Parameters)\n",
        "\n",
        "Layer 5 (C5): Next layer would be convolutional layer with 120 5×5 kernels. Here, the kernel shape is same as above but the filters are 120. Output at this layer would be 1x1x120.\n",
        "\n",
        "                             Output shape = ((5 + 0–5) / 1) + 1 = 1\n",
        "                             Learning Parameters = ([ 16 x (5 x 5) x 1] + 1) x 120 filters = 48120\n",
        "\n",
        "Layer 6 (F6): Thi fully-connected layer takes the input of 120 and there are 84 linear neurons applied on it .This is flattern layer which in which the shape is not going to change as we are not applying padding and convolution here.\n",
        "\n",
        "                             Learning Parameters = (120 x 84 + 84) = 10164\n",
        "\n",
        "Layer 7 (F7): The final layer would be applied 10 Linear neurons which gives an output of size 10 and based on probebility the final output would be taken. For example, if we are working on MNIST data it would give a probebility of 0-9 and based on best matching we can take final output.\n",
        "\n",
        "                             No of Learning Parameters = (84 x 10 + 10) = 850"
      ]
    },
    {
      "cell_type": "markdown",
      "metadata": {
        "id": "zhXIRv0fZF9G"
      },
      "source": [
        "# Implementation of LeNet with Pytorch"
      ]
    },
    {
      "cell_type": "markdown",
      "metadata": {
        "id": "zgOsFRVbZF9H"
      },
      "source": [
        "# Import all required libraries"
      ]
    },
    {
      "cell_type": "code",
      "execution_count": null,
      "metadata": {
        "id": "g1orGd1IZF9I"
      },
      "outputs": [],
      "source": [
        "import torch\n",
        "import torch.nn as nn\n",
        "import torch.nn.functional as F\n",
        "from torchsummary import summary"
      ]
    },
    {
      "cell_type": "code",
      "execution_count": null,
      "metadata": {
        "id": "4MFI9EY3ZF9K"
      },
      "outputs": [],
      "source": [
        "class LeNet(nn.Module):\n",
        "    def __init__(self):\n",
        "        super(LeNet,self).__init__()\n",
        "        #Here, we are plementing those layers which are having learnable parameters.\n",
        "        #Start implementation of Layer 1 (C1) which has 6 kernels of size 5x5 with padding 0 and stride 1\n",
        "        \n",
        "        self.conv1 = nn.Conv2d(in_channels=1,out_channels=6,kernel_size=(5,5),padding=0,stride=1)\n",
        "        \n",
        "        #Start implementation of Layer 3 (C3) which has 16 kernels of size 5x5 with padding 0 and stride 1\n",
        "        \n",
        "        self.conv2 = nn.Conv2d(in_channels = 6, out_channels = 16,kernel_size = (5,5),padding=0,stride=1)\n",
        "        \n",
        "        #Start implementation of Layer 5 (C5) which is basically flattening the data \n",
        "            \n",
        "        self.conv3 = nn.Conv2d(in_channels = 16, out_channels = 120,kernel_size = (5,5),padding=0,stride=1)\n",
        "        \n",
        "        #Start implementation of Layer 6 (F6) which has 85 Linear Neurons and input of 120\n",
        "        \n",
        "        self.L1 = nn.Linear(120,84)\n",
        "        \n",
        "        #Start implementation of Layer 7 (F7) which has 10 Linear Neurons and input of 84\n",
        "        \n",
        "        self.L2 = nn.Linear(84,10)\n",
        "        \n",
        "        #We have used pooling of size 2 and stride 2 in this architecture \n",
        "        \n",
        "        self.pool = nn.AvgPool2d(kernel_size = 2, stride = 2)\n",
        "        \n",
        "        #We have used tanh as an activation function in this architecture so we will use tanh at all layers excluding F7.\n",
        "        self.act = nn.Tanh()\n",
        "        \n",
        "    #Now we will implement forward function to produce entire flow of the architecture.\n",
        "    \n",
        "    def forward(self,x):\n",
        "        x = self.conv1(x)\n",
        "        #We have used tanh as an activation function in this architecture so we will use tanh at all layers excluding F7.\n",
        "        x = self.act(x)\n",
        "        #Now this will be passed from pooling \n",
        "        x = self.pool(x)\n",
        "        #Next stage is convolution\n",
        "        x = self.conv2(x)\n",
        "        x = self.act(x)\n",
        "        x = self.pool(x)\n",
        "        #next we will pass from conv3, here we will not pass data from pooling as per Architecture \n",
        "        x = self.conv3(x)\n",
        "        x = self.act(x)\n",
        "        \n",
        "        #Now the data should be flaten and it would be passed from FC layers. \n",
        "        x = x.view(x.size()[0], -1)\n",
        "        x = self.L1(x)\n",
        "        x = self.act(x)\n",
        "        x = self.L2(x)\n",
        "        \n",
        "        \n",
        "        return x\n",
        "    \n"
      ]
    },
    {
      "cell_type": "code",
      "execution_count": null,
      "metadata": {
        "id": "QJpyTHO3ZF9L"
      },
      "outputs": [],
      "source": [
        "x = torch.randn(1,1,32,32)"
      ]
    },
    {
      "cell_type": "code",
      "execution_count": null,
      "metadata": {
        "id": "Q8lA3k2nZF9L"
      },
      "outputs": [],
      "source": [
        "model = LeNet()\n",
        "output = model(x)"
      ]
    },
    {
      "cell_type": "code",
      "execution_count": null,
      "metadata": {
        "id": "whEP_oLFZF9M",
        "outputId": "8082d54f-932c-4332-f799-d9859309ca36",
        "colab": {
          "base_uri": "https://localhost:8080/"
        }
      },
      "outputs": [
        {
          "output_type": "stream",
          "name": "stdout",
          "text": [
            "torch.Size([1, 10])\n"
          ]
        }
      ],
      "source": [
        "print(output.shape)"
      ]
    },
    {
      "cell_type": "code",
      "execution_count": null,
      "metadata": {
        "id": "8FwpufnDZF9N",
        "outputId": "1b78fb06-5097-4e51-f352-d401eb6b99c9",
        "colab": {
          "base_uri": "https://localhost:8080/"
        }
      },
      "outputs": [
        {
          "output_type": "stream",
          "name": "stdout",
          "text": [
            "LeNet(\n",
            "  (conv1): Conv2d(1, 6, kernel_size=(5, 5), stride=(1, 1))\n",
            "  (conv2): Conv2d(6, 16, kernel_size=(5, 5), stride=(1, 1))\n",
            "  (conv3): Conv2d(16, 120, kernel_size=(5, 5), stride=(1, 1))\n",
            "  (L1): Linear(in_features=120, out_features=84, bias=True)\n",
            "  (L2): Linear(in_features=84, out_features=10, bias=True)\n",
            "  (pool): AvgPool2d(kernel_size=2, stride=2, padding=0)\n",
            "  (act): Tanh()\n",
            ")\n"
          ]
        }
      ],
      "source": [
        "print(model)"
      ]
    },
    {
      "cell_type": "code",
      "execution_count": null,
      "metadata": {
        "id": "RGqR3ccyZF9O",
        "outputId": "c37b3b58-97ab-4962-f2a9-763539976af4",
        "colab": {
          "base_uri": "https://localhost:8080/"
        }
      },
      "outputs": [
        {
          "output_type": "stream",
          "name": "stdout",
          "text": [
            "----------------------------------------------------------------\n",
            "        Layer (type)               Output Shape         Param #\n",
            "================================================================\n",
            "            Conv2d-1            [-1, 6, 28, 28]             156\n",
            "              Tanh-2            [-1, 6, 28, 28]               0\n",
            "         AvgPool2d-3            [-1, 6, 14, 14]               0\n",
            "            Conv2d-4           [-1, 16, 10, 10]           2,416\n",
            "              Tanh-5           [-1, 16, 10, 10]               0\n",
            "         AvgPool2d-6             [-1, 16, 5, 5]               0\n",
            "            Conv2d-7            [-1, 120, 1, 1]          48,120\n",
            "              Tanh-8            [-1, 120, 1, 1]               0\n",
            "            Linear-9                   [-1, 84]          10,164\n",
            "             Tanh-10                   [-1, 84]               0\n",
            "           Linear-11                   [-1, 10]             850\n",
            "================================================================\n",
            "Total params: 61,706\n",
            "Trainable params: 61,706\n",
            "Non-trainable params: 0\n",
            "----------------------------------------------------------------\n",
            "Input size (MB): 0.00\n",
            "Forward/backward pass size (MB): 0.11\n",
            "Params size (MB): 0.24\n",
            "Estimated Total Size (MB): 0.35\n",
            "----------------------------------------------------------------\n"
          ]
        }
      ],
      "source": [
        "summary(model,(1, 32, 32))"
      ]
    },
    {
      "cell_type": "markdown",
      "metadata": {
        "id": "SIB2dCHLZF9O"
      },
      "source": [
        "# Now lets test our model on MNIST Dataset"
      ]
    },
    {
      "cell_type": "code",
      "execution_count": null,
      "metadata": {
        "id": "6TqFQhqeZF9P"
      },
      "outputs": [],
      "source": [
        "#We are tesing our model on MNIST dataset which is 1x28x28 insize so we have to change C5 layer in FC layer becasue at this stage \n",
        "#pixel size would be 16x5x5 so we can not apply kernel of 5x5 \n",
        "\n",
        "class LeNet_MNIST(nn.Module):\n",
        "    def __init__(self):\n",
        "        super(LeNet_MNIST,self).__init__()\n",
        "        #Here, we are plementing those layers which are having learnable parameters.\n",
        "        #Start implementation of Layer 1 (C1) which has 6 kernels of size 5x5 with padding 0 and stride 1\n",
        "        \n",
        "        self.conv1 = nn.Conv2d(in_channels=1,out_channels=6,kernel_size=(5,5))\n",
        "        \n",
        "        #Start implementation of Layer 3 (C3) which has 16 kernels of size 5x5 with padding 0 and stride 1\n",
        "        \n",
        "        self.conv2 = nn.Conv2d(in_channels = 6, out_channels = 16,kernel_size = (5,5))\n",
        "        \n",
        "        #Start implementation of Layer 5 (C5) which is basically flattening the data \n",
        "            \n",
        "        self.L1 = nn.Linear(256, 120)\n",
        "        \n",
        "        #Start implementation of Layer 6 (F6) which has 85 Linear Neurons and input of 120\n",
        "        \n",
        "        self.L2 = nn.Linear(120,84)\n",
        "        \n",
        "        #Start implementation of Layer 7 (F7) which has 10 Linear Neurons and input of 84\n",
        "        \n",
        "        self.L3 = nn.Linear(84,10)\n",
        "        \n",
        "        #We have used pooling of size 2 and stride 2 in this architecture \n",
        "        \n",
        "        self.pool = nn.AvgPool2d(kernel_size = 2, stride = 2)\n",
        "        \n",
        "        #We have used tanh as an activation function in this architecture so we will use tanh at all layers excluding F7.\n",
        "        self.act = nn.Tanh()\n",
        "        \n",
        "    #Now we will implement forward function to produce entire flow of the architecture.\n",
        "    \n",
        "    def forward(self,x):\n",
        "        x = self.conv1(x)\n",
        "        #We have used tanh as an activation function in this architecture so we will use tanh at all layers excluding F7.\n",
        "        x = self.act(x)\n",
        "        #Now this will be passed from pooling \n",
        "        x = self.pool(x)\n",
        "        #Next stage is convolution\n",
        "        x = self.conv2(x)\n",
        "        x = self.act(x)\n",
        "        x = self.pool(x)\n",
        "        #next we will pass from conv3, here we will not pass data from pooling as per Architecture \n",
        "        \n",
        "        \n",
        "        #Now the data should be flaten and it would be passed from FC layers. \n",
        "        x = x.view(x.size()[0], -1)\n",
        "        x = self.L1(x)\n",
        "        x = self.act(x)\n",
        "        x = self.L2(x)\n",
        "        x = self.act(x)\n",
        "        x = self.L3(x)\n",
        "        \n",
        "        return x\n",
        "    \n"
      ]
    },
    {
      "cell_type": "code",
      "execution_count": null,
      "metadata": {
        "id": "5rUbgDVKZF9Q"
      },
      "outputs": [],
      "source": [
        "model = LeNet_MNIST()"
      ]
    },
    {
      "cell_type": "code",
      "execution_count": null,
      "metadata": {
        "id": "9Af74kJ_ZF9Q"
      },
      "outputs": [],
      "source": [
        "import torchvision.datasets as datasets\n",
        "import torch.optim as optim\n",
        "import torch.nn.functional as F\n",
        "from torchvision.transforms import ToTensor\n",
        "from torch.utils.data import DataLoader\n",
        "import numpy as np"
      ]
    },
    {
      "cell_type": "code",
      "execution_count": null,
      "metadata": {
        "id": "8lg1Rn-oZF9Q"
      },
      "outputs": [],
      "source": [
        "train = datasets.MNIST(root='data',train=True,transform=ToTensor(),download=True)\n",
        "test = datasets.MNIST(root='data',train=False,transform=ToTensor(),download=True)"
      ]
    },
    {
      "cell_type": "code",
      "execution_count": null,
      "metadata": {
        "id": "Ou4b8u1lZF9R"
      },
      "outputs": [],
      "source": [
        "batch_size = 128\n",
        "train_loader = DataLoader(train,batch_size=batch_size,shuffle=True)\n",
        "test_loader = DataLoader(test,batch_size=batch_size,shuffle=False)"
      ]
    },
    {
      "cell_type": "code",
      "execution_count": null,
      "metadata": {
        "id": "4d3JEr-eZF9R"
      },
      "outputs": [],
      "source": [
        "learning_rate = 0.002\n",
        "optimizer = optim.Adam(model.parameters(),lr=learning_rate)\n",
        "loss_fn = torch.nn.CrossEntropyLoss(reduction='sum')"
      ]
    },
    {
      "cell_type": "code",
      "execution_count": null,
      "metadata": {
        "id": "_4SjSZvhZF9S",
        "outputId": "6a1e30bb-7ade-476a-ad04-896c427e8737",
        "colab": {
          "base_uri": "https://localhost:8080/"
        }
      },
      "outputs": [
        {
          "output_type": "execute_result",
          "data": {
            "text/plain": [
              "torch.Size([128, 1, 28, 28])"
            ]
          },
          "metadata": {},
          "execution_count": 14
        }
      ],
      "source": [
        "examples = enumerate(train_loader)\n",
        "batch_idx, (example_data, example_targets) = next(examples)\n",
        "example_data.shape"
      ]
    },
    {
      "cell_type": "code",
      "execution_count": null,
      "metadata": {
        "id": "WM_aMMH3ZF9S",
        "outputId": "24e8cfef-b916-4a15-e132-4e671d9d6f7b",
        "colab": {
          "base_uri": "https://localhost:8080/"
        }
      },
      "outputs": [
        {
          "output_type": "execute_result",
          "data": {
            "text/plain": [
              "torch.Size([128, 10])"
            ]
          },
          "metadata": {},
          "execution_count": 15
        }
      ],
      "source": [
        "output = model(example_data)\n",
        "output.shape"
      ]
    },
    {
      "cell_type": "code",
      "execution_count": null,
      "metadata": {
        "id": "41jHp7lGZF9T"
      },
      "outputs": [],
      "source": [
        "def accuracy(outputs,labels):\n",
        "    _,pred = torch.max(outputs,dim=1)\n",
        "    return torch.tensor(torch.sum(pred==labels).item()/len(pred))"
      ]
    },
    {
      "cell_type": "code",
      "execution_count": null,
      "metadata": {
        "id": "88PxaEnBZF9T"
      },
      "outputs": [],
      "source": [
        "def training_step(batch):\n",
        "            image,label = batch\n",
        "            out = model(image)\n",
        "            loss = loss_fn(out,label)\n",
        "            return loss\n",
        "    \n",
        "def test_step(batch):\n",
        "            image,label = batch\n",
        "            out = model(image)\n",
        "            loss = loss_fn(out,label)\n",
        "            acc = accuracy(out, label)\n",
        "            return {'test_loss': loss.detach(), 'test_acc': acc}\n",
        "    \n",
        "def training_result(outputs):\n",
        "            batch_loss = [i['test_loss'] for i in outputs]\n",
        "            epoch_loss = torch.stack(batch_loss).mean()\n",
        "            batch_acc = [i['test_acc'] for i in outputs]\n",
        "            epoch_acc = torch.stack(batch_acc).mean()  \n",
        "            return {'test_loss': epoch_loss.item(), 'test_acc': epoch_acc.item()}\n",
        "    \n",
        "def epoch_result(epoch,result):\n",
        "            print(\"Epoch [{}], train_loss: {:.4f}, test_loss: {:.4f}, test_acc: {:.4f}\".format(\n",
        "                epoch, result['train_loss'], result['test_loss'], result['test_acc']))"
      ]
    },
    {
      "cell_type": "code",
      "execution_count": null,
      "metadata": {
        "id": "_I-LGHPhZF9U",
        "outputId": "80ad26fd-afed-450a-97b5-2bf9ae56ec8c",
        "colab": {
          "base_uri": "https://localhost:8080/"
        }
      },
      "outputs": [
        {
          "output_type": "stream",
          "name": "stdout",
          "text": [
            "torch.Size([128, 1, 28, 28])\n",
            "torch.Size([128, 10])\n",
            "tensor([ 0.0121,  0.0673, -0.0532,  0.0214,  0.0425,  0.1034,  0.0344,  0.0387,\n",
            "        -0.0499, -0.0629], grad_fn=<SelectBackward0>)\n"
          ]
        }
      ],
      "source": [
        "for image,labels in train_loader:\n",
        "    print(image.shape)\n",
        "    out = model(image)\n",
        "    print(out.shape)\n",
        "    print(out[0])\n",
        "    break"
      ]
    },
    {
      "cell_type": "code",
      "execution_count": null,
      "metadata": {
        "id": "cLPaeaH5ZF9U"
      },
      "outputs": [],
      "source": [
        "def get_default_device():\n",
        "    \"\"\"Pick GPU if available, else CPU\"\"\"\n",
        "    if torch.cuda.is_available():\n",
        "        return torch.device('cuda')\n",
        "    else:\n",
        "        return 'cpu'\n",
        "    \n",
        "def to_device(data, device):\n",
        "    \"\"\"Move tensor(s) to chosen device\"\"\"\n",
        "    if isinstance(data, (list,tuple)):\n",
        "        return [to_device(x, device) for x in data]\n",
        "    return data.to(device, non_blocking=True)\n",
        "\n",
        "class DeviceDataLoader():\n",
        "    \"\"\"Wrap a dataloader to move data to a device\"\"\"\n",
        "    def __init__(self, dl, device):\n",
        "        self.dl = dl\n",
        "        self.device = device\n",
        "        \n",
        "    def __iter__(self):\n",
        "        \"\"\"Yield a batch of data after moving it to device\"\"\"\n",
        "        for b in self.dl: \n",
        "            yield to_device(b, self.device)\n",
        "\n",
        "    def __len__(self):\n",
        "        \"\"\"Number of batches\"\"\"\n",
        "        return len(self.dl)"
      ]
    },
    {
      "cell_type": "code",
      "execution_count": null,
      "metadata": {
        "id": "l_KxRz_kZF9V",
        "outputId": "478b3d1b-f631-4626-aa45-7a186299f4f4",
        "colab": {
          "base_uri": "https://localhost:8080/",
          "height": 35
        }
      },
      "outputs": [
        {
          "output_type": "execute_result",
          "data": {
            "application/vnd.google.colaboratory.intrinsic+json": {
              "type": "string"
            },
            "text/plain": [
              "'cpu'"
            ]
          },
          "metadata": {},
          "execution_count": 20
        }
      ],
      "source": [
        "device = get_default_device()\n",
        "device"
      ]
    },
    {
      "cell_type": "code",
      "execution_count": null,
      "metadata": {
        "id": "1rh57qWoZF9V"
      },
      "outputs": [],
      "source": [
        "train_dl = DeviceDataLoader(train_loader, device)\n",
        "test_dl = DeviceDataLoader(test_loader, device)\n",
        "to_device(model, device);"
      ]
    },
    {
      "cell_type": "code",
      "execution_count": null,
      "metadata": {
        "id": "H1fWsc_YZF9V"
      },
      "outputs": [],
      "source": [
        "def evaluation(model,test_loader):\n",
        "    model.eval()\n",
        "    output = [test_step(batch) for batch in test_loader] \n",
        "    return training_result(output)"
      ]
    },
    {
      "cell_type": "code",
      "execution_count": null,
      "metadata": {
        "id": "0bov87dfZF9W"
      },
      "outputs": [],
      "source": [
        "def fit(epochs,model,lr,train_loader,test_loader,optim = optimizer):\n",
        "    history = []\n",
        "    for epoch in range(epochs):\n",
        "        train_loss = []\n",
        "        model.train()\n",
        "        for batch in train_loader:\n",
        "            loss = training_step(batch)\n",
        "            train_loss.append(loss)\n",
        "            loss.backward()\n",
        "            optimizer.step()\n",
        "            optimizer.zero_grad()\n",
        "            \n",
        "        result = evaluation(model,test_loader)\n",
        "        result['train_loss'] = torch.stack(train_loss).mean().item()\n",
        "        epoch_result(epoch,result)\n",
        "        history.append(result)\n",
        "    return history\n",
        "            "
      ]
    },
    {
      "cell_type": "code",
      "execution_count": null,
      "metadata": {
        "id": "RkgV00sDZF9W",
        "outputId": "ffd88a0b-537c-4959-a040-2dbce0924c84",
        "colab": {
          "base_uri": "https://localhost:8080/"
        }
      },
      "outputs": [
        {
          "output_type": "execute_result",
          "data": {
            "text/plain": [
              "{'test_acc': 0.07367484271526337, 'test_loss': 291.8251037597656}"
            ]
          },
          "metadata": {},
          "execution_count": 24
        }
      ],
      "source": [
        "evaluation(model,test_loader)"
      ]
    },
    {
      "cell_type": "code",
      "execution_count": null,
      "metadata": {
        "id": "gMP2cKgOZF9X"
      },
      "outputs": [],
      "source": [
        "num_epochs = 30\n",
        "#opt_fun = torch.optim.Adam()\n",
        "lr = learning_rate"
      ]
    },
    {
      "cell_type": "code",
      "execution_count": null,
      "metadata": {
        "id": "kb6VJUyRZF9X",
        "outputId": "4d442277-74fe-4645-e630-e5199edb7beb",
        "colab": {
          "base_uri": "https://localhost:8080/"
        }
      },
      "outputs": [
        {
          "output_type": "stream",
          "name": "stdout",
          "text": [
            "Epoch [0], train_loss: 38.4265, test_loss: 17.3039, test_acc: 0.9581\n",
            "Epoch [1], train_loss: 12.3931, test_loss: 10.2163, test_acc: 0.9736\n",
            "Epoch [2], train_loss: 8.4000, test_loss: 7.9248, test_acc: 0.9792\n",
            "Epoch [3], train_loss: 6.6306, test_loss: 7.0688, test_acc: 0.9837\n",
            "Epoch [4], train_loss: 5.0973, test_loss: 6.7198, test_acc: 0.9832\n",
            "Epoch [5], train_loss: 4.2794, test_loss: 7.2248, test_acc: 0.9817\n",
            "Epoch [6], train_loss: 3.5355, test_loss: 6.5276, test_acc: 0.9836\n",
            "Epoch [7], train_loss: 2.8608, test_loss: 7.3552, test_acc: 0.9832\n",
            "Epoch [8], train_loss: 2.7148, test_loss: 6.9433, test_acc: 0.9832\n",
            "Epoch [9], train_loss: 2.1658, test_loss: 6.3175, test_acc: 0.9851\n",
            "Epoch [10], train_loss: 2.4070, test_loss: 6.3807, test_acc: 0.9855\n",
            "Epoch [11], train_loss: 1.9472, test_loss: 6.6543, test_acc: 0.9850\n",
            "Epoch [12], train_loss: 1.6052, test_loss: 6.9316, test_acc: 0.9834\n",
            "Epoch [13], train_loss: 1.6525, test_loss: 6.9776, test_acc: 0.9849\n",
            "Epoch [14], train_loss: 1.4029, test_loss: 6.8784, test_acc: 0.9853\n",
            "Epoch [15], train_loss: 1.4838, test_loss: 7.1979, test_acc: 0.9856\n",
            "Epoch [16], train_loss: 1.1160, test_loss: 7.1341, test_acc: 0.9866\n",
            "Epoch [17], train_loss: 1.1534, test_loss: 6.3705, test_acc: 0.9868\n",
            "Epoch [18], train_loss: 1.0586, test_loss: 8.0256, test_acc: 0.9850\n",
            "Epoch [19], train_loss: 1.1178, test_loss: 7.2647, test_acc: 0.9862\n",
            "Epoch [20], train_loss: 1.3460, test_loss: 7.8733, test_acc: 0.9833\n",
            "Epoch [21], train_loss: 1.2799, test_loss: 6.2242, test_acc: 0.9888\n",
            "Epoch [22], train_loss: 0.7822, test_loss: 8.0908, test_acc: 0.9841\n",
            "Epoch [23], train_loss: 0.5884, test_loss: 8.3440, test_acc: 0.9844\n",
            "Epoch [24], train_loss: 1.1924, test_loss: 7.4493, test_acc: 0.9855\n",
            "Epoch [25], train_loss: 1.4141, test_loss: 8.8484, test_acc: 0.9823\n",
            "Epoch [26], train_loss: 0.7243, test_loss: 6.8979, test_acc: 0.9866\n",
            "Epoch [27], train_loss: 0.8108, test_loss: 7.6871, test_acc: 0.9848\n",
            "Epoch [28], train_loss: 0.7117, test_loss: 7.1690, test_acc: 0.9875\n",
            "Epoch [29], train_loss: 0.8385, test_loss: 7.4624, test_acc: 0.9866\n"
          ]
        }
      ],
      "source": [
        "history = fit(num_epochs,model,lr, train_dl, test_dl, optim=optimizer)"
      ]
    },
    {
      "cell_type": "markdown",
      "metadata": {
        "id": "uRm7xRqDZF9Y"
      },
      "source": [
        "We can further train our model or we can tune hyperparameters like learning rate, optimizer, also we can change activation function."
      ]
    },
    {
      "cell_type": "code",
      "execution_count": null,
      "metadata": {
        "id": "W9XyBXWUZF9Y"
      },
      "outputs": [],
      "source": [
        "import matplotlib.pyplot as plt"
      ]
    },
    {
      "cell_type": "code",
      "execution_count": null,
      "metadata": {
        "id": "mmi-GUPgZF9Y"
      },
      "outputs": [],
      "source": [
        "def plot_losses(history):\n",
        "    losses = [x['test_loss'] for x in history]\n",
        "    plt.plot(losses,'-x')\n",
        "    plt.xlabel('Epochs')\n",
        "    plt.ylabel('Test_Loss')\n",
        "    plt.title(\"Epochs V/S Test Loss\")"
      ]
    },
    {
      "cell_type": "code",
      "execution_count": null,
      "metadata": {
        "id": "aOFOBTphZF9Z",
        "outputId": "aabcdf8a-5a2f-4209-c39c-e498a4d91435",
        "colab": {
          "base_uri": "https://localhost:8080/",
          "height": 295
        }
      },
      "outputs": [
        {
          "output_type": "display_data",
          "data": {
            "image/png": "[encoded data removed]",
            "text/plain": [
              "<Figure size 432x288 with 1 Axes>"
            ]
          },
          "metadata": {
            "needs_background": "light"
          }
        }
      ],
      "source": [
        "plot_losses(history)"
      ]
    },
    {
      "cell_type": "code",
      "execution_count": null,
      "metadata": {
        "id": "Azxj6kkeZF9Z",
        "outputId": "3602b909-ead8-4ed3-c008-ccb8bf35d9e8",
        "colab": {
          "base_uri": "https://localhost:8080/"
        }
      },
      "outputs": [
        {
          "output_type": "execute_result",
          "data": {
            "text/plain": [
              "{'test_acc': 0.9866495132446289, 'test_loss': 7.4623565673828125}"
            ]
          },
          "metadata": {},
          "execution_count": 30
        }
      ],
      "source": [
        "evaluation(model, test_loader)"
      ]
    },
    {
      "cell_type": "code",
      "execution_count": null,
      "metadata": {
        "id": "2iMWR5gDZF9Z"
      },
      "outputs": [],
      "source": [
        "torch.save(model.state_dict(),'MNIST.pth')"
      ]
    },
    {
      "cell_type": "markdown",
      "metadata": {
        "id": "2_SC_wG1ZF9a"
      },
      "source": [
        "# Testing with individual images"
      ]
    },
    {
      "cell_type": "code",
      "execution_count": null,
      "metadata": {
        "id": "deCFi6mNZF9a"
      },
      "outputs": [],
      "source": [
        "def test_image(img,model):\n",
        "    xb = to_device(img.unsqueeze(0), device)\n",
        "    yb = model(xb)\n",
        "    \n",
        "    _,pred = torch.max(yb,dim=1)\n",
        "    \n",
        "    return train.classes[pred[0].item()]"
      ]
    },
    {
      "cell_type": "code",
      "execution_count": null,
      "metadata": {
        "id": "Zx-S8W84ZF9a",
        "outputId": "c8be1760-68cf-4728-e292-a360fd8df202",
        "colab": {
          "base_uri": "https://localhost:8080/",
          "height": 301
        }
      },
      "outputs": [
        {
          "output_type": "stream",
          "name": "stdout",
          "text": [
            "Label: 7\n"
          ]
        },
        {
          "output_type": "execute_result",
          "data": {
            "application/vnd.google.colaboratory.intrinsic+json": {
              "type": "string"
            },
            "text/plain": [
              "'7 - seven'"
            ]
          },
          "metadata": {},
          "execution_count": 33
        },
        {
          "output_type": "display_data",
          "data": {
            "image/png": "[encoded data removed]",
            "text/plain": [
              "<Figure size 432x288 with 1 Axes>"
            ]
          },
          "metadata": {
            "needs_background": "light"
          }
        }
      ],
      "source": [
        "img, label = test[0]\n",
        "plt.imshow(img[0], cmap='gray')\n",
        "print('Label:', label)\n",
        "test_image(img,model)"
      ]
    },
    {
      "cell_type": "code",
      "execution_count": null,
      "metadata": {
        "id": "kOE3bDDpZF9b",
        "outputId": "73df054e-d3e5-4d4d-dec2-c6f1cd870826",
        "colab": {
          "base_uri": "https://localhost:8080/",
          "height": 301
        }
      },
      "outputs": [
        {
          "output_type": "stream",
          "name": "stdout",
          "text": [
            "Label: 6\n"
          ]
        },
        {
          "output_type": "execute_result",
          "data": {
            "application/vnd.google.colaboratory.intrinsic+json": {
              "type": "string"
            },
            "text/plain": [
              "'6 - six'"
            ]
          },
          "metadata": {},
          "execution_count": 34
        },
        {
          "output_type": "display_data",
          "data": {
            "image/png": "[encoded data removed]",
            "text/plain": [
              "<Figure size 432x288 with 1 Axes>"
            ]
          },
          "metadata": {
            "needs_background": "light"
          }
        }
      ],
      "source": [
        "img, label = test[50]\n",
        "plt.imshow(img[0], cmap='gray')\n",
        "print('Label:', label)\n",
        "test_image(img,model)"
      ]
    },
    {
      "cell_type": "code",
      "execution_count": null,
      "metadata": {
        "id": "Xem9RdaCZF9b",
        "outputId": "71fd7291-7143-4466-c765-4856e9ad5ab1",
        "colab": {
          "base_uri": "https://localhost:8080/",
          "height": 301
        }
      },
      "outputs": [
        {
          "output_type": "stream",
          "name": "stdout",
          "text": [
            "Label: 0\n"
          ]
        },
        {
          "output_type": "execute_result",
          "data": {
            "application/vnd.google.colaboratory.intrinsic+json": {
              "type": "string"
            },
            "text/plain": [
              "'0 - zero'"
            ]
          },
          "metadata": {},
          "execution_count": 35
        },
        {
          "output_type": "display_data",
          "data": {
            "image/png": "[encoded data removed]",
            "text/plain": [
              "<Figure size 432x288 with 1 Axes>"
            ]
          },
          "metadata": {
            "needs_background": "light"
          }
        }
      ],
      "source": [
        "img, label = test[498]\n",
        "plt.imshow(img[0], cmap='gray')\n",
        "print('Label:', label)\n",
        "test_image(img,model)"
      ]
    },
    {
      "cell_type": "markdown",
      "metadata": {
        "id": "-g6H7VcgZF9b"
      },
      "source": [
        "Here we can see our model can predict correct values"
      ]
    },
    {
      "cell_type": "code",
      "execution_count": null,
      "metadata": {
        "id": "ym5qYjuEZF9c"
      },
      "outputs": [],
      "source": [
        ""
      ]
    }
  ],
  "metadata": {
    "kernelspec": {
      "display_name": "Python 3",
      "language": "python",
      "name": "python3"
    },
    "language_info": {
      "codemirror_mode": {
        "name": "ipython",
        "version": 3
      },
      "file_extension": ".py",
      "mimetype": "text/x-python",
      "name": "python",
      "nbconvert_exporter": "python",
      "pygments_lexer": "ipython3",
      "version": "3.8.3"
    },
    "colab": {
      "name": "Lenet_Pytorch.ipynb",
      "provenance": [],
      "include_colab_link": true
    }
  },
  "nbformat": 4,
  "nbformat_minor": 0
}